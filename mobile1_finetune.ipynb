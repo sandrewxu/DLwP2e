{
 "cells": [
  {
   "cell_type": "markdown",
   "metadata": {},
   "source": [
    "# Fine Tuning Apple's MobileOne for iOS Hand Gesture Recognition\n",
    "\n",
    "In 2023, Apple researchers introduced MobileOne, a neural network for computer vision intended to run in 1ms on iOS devices. Link: https://arxiv.org/abs/2206.04040."
   ]
  },
  {
   "cell_type": "code",
   "execution_count": null,
   "metadata": {},
   "outputs": [],
   "source": []
  }
 ],
 "metadata": {
  "language_info": {
   "name": "python"
  }
 },
 "nbformat": 4,
 "nbformat_minor": 2
}
